{
 "cells": [
  {
   "cell_type": "code",
   "execution_count": 1,
   "metadata": {},
   "outputs": [],
   "source": [
    "from qiskit import QuantumRegister , ClassicalRegister, QuantumCircuit , execute , Aer\n",
    "from random import randrange"
   ]
  },
  {
   "cell_type": "code",
   "execution_count": 3,
   "metadata": {},
   "outputs": [
    {
     "name": "stdout",
     "output_type": "stream",
     "text": [
      "x-gate is applied to the qubit with index 1\n",
      "x-gate is applied to the qubit with index 2\n",
      "x-gate is applied to the qubit with index 3\n",
      "x-gate is applied to the qubit with index 4\n",
      "x-gate is applied to the qubit with index 6\n",
      "x-gate is applied to the qubit with index 8\n",
      "x-gate is applied to the qubit with index 9\n",
      "Everything looks fine, let's continue ...\n"
     ]
    }
   ],
   "source": [
    "qr = QuantumRegister(10)\n",
    "cr = ClassicalRegister(10)\n",
    "\n",
    "mycircuit = QuantumCircuit(qr , cr)\n",
    "\n",
    "for i in range (10):\n",
    "    if randrange(2) ==0:\n",
    "        mycircuit.x(qr[i])\n",
    "        print(\"x-gate is applied to the qubit with index\",i)\n",
    "        \n",
    "mycircuit.measure(qr,cr)    \n",
    "\n",
    "print(\"Everything looks fine, let's continue ...\")        "
   ]
  },
  {
   "cell_type": "code",
   "execution_count": 4,
   "metadata": {},
   "outputs": [
    {
     "data": {
      "text/html": [
       "<pre style=\"word-wrap: normal;white-space: pre;background: #fff0;line-height: 1.1;font-family: &quot;Courier New&quot;,Courier,monospace\">      ┌───┐                           ┌─┐\n",
       "q1_9: ┤ X ├───────────────────────────┤M├\n",
       "      ├───┤                        ┌─┐└╥┘\n",
       "q1_8: ┤ X ├────────────────────────┤M├─╫─\n",
       "      └───┘      ┌─┐               └╥┘ ║ \n",
       "q1_7: ───────────┤M├────────────────╫──╫─\n",
       "      ┌───┐      └╥┘            ┌─┐ ║  ║ \n",
       "q1_6: ┤ X ├───────╫─────────────┤M├─╫──╫─\n",
       "      └───┘   ┌─┐ ║             └╥┘ ║  ║ \n",
       "q1_5: ────────┤M├─╫──────────────╫──╫──╫─\n",
       "      ┌───┐   └╥┘ ║          ┌─┐ ║  ║  ║ \n",
       "q1_4: ┤ X ├────╫──╫──────────┤M├─╫──╫──╫─\n",
       "      ├───┤    ║  ║       ┌─┐└╥┘ ║  ║  ║ \n",
       "q1_3: ┤ X ├────╫──╫───────┤M├─╫──╫──╫──╫─\n",
       "      ├───┤    ║  ║    ┌─┐└╥┘ ║  ║  ║  ║ \n",
       "q1_2: ┤ X ├────╫──╫────┤M├─╫──╫──╫──╫──╫─\n",
       "      ├───┤    ║  ║ ┌─┐└╥┘ ║  ║  ║  ║  ║ \n",
       "q1_1: ┤ X ├────╫──╫─┤M├─╫──╫──╫──╫──╫──╫─\n",
       "      └───┘┌─┐ ║  ║ └╥┘ ║  ║  ║  ║  ║  ║ \n",
       "q1_0: ─────┤M├─╫──╫──╫──╫──╫──╫──╫──╫──╫─\n",
       "           └╥┘ ║  ║  ║  ║  ║  ║  ║  ║  ║ \n",
       "c1_9: ══════╬══╬══╬══╬══╬══╬══╬══╬══╬══╩═\n",
       "            ║  ║  ║  ║  ║  ║  ║  ║  ║    \n",
       "c1_8: ══════╬══╬══╬══╬══╬══╬══╬══╬══╩════\n",
       "            ║  ║  ║  ║  ║  ║  ║  ║       \n",
       "c1_7: ══════╬══╬══╩══╬══╬══╬══╬══╬═══════\n",
       "            ║  ║     ║  ║  ║  ║  ║       \n",
       "c1_6: ══════╬══╬═════╬══╬══╬══╬══╩═══════\n",
       "            ║  ║     ║  ║  ║  ║          \n",
       "c1_5: ══════╬══╩═════╬══╬══╬══╬══════════\n",
       "            ║        ║  ║  ║  ║          \n",
       "c1_4: ══════╬════════╬══╬══╬══╩══════════\n",
       "            ║        ║  ║  ║             \n",
       "c1_3: ══════╬════════╬══╬══╩═════════════\n",
       "            ║        ║  ║                \n",
       "c1_2: ══════╬════════╬══╩════════════════\n",
       "            ║        ║                   \n",
       "c1_1: ══════╬════════╩═══════════════════\n",
       "            ║                            \n",
       "c1_0: ══════╩════════════════════════════\n",
       "                                         </pre>"
      ],
      "text/plain": [
       "      ┌───┐                           ┌─┐\n",
       "q1_9: ┤ X ├───────────────────────────┤M├\n",
       "      ├───┤                        ┌─┐└╥┘\n",
       "q1_8: ┤ X ├────────────────────────┤M├─╫─\n",
       "      └───┘      ┌─┐               └╥┘ ║ \n",
       "q1_7: ───────────┤M├────────────────╫──╫─\n",
       "      ┌───┐      └╥┘            ┌─┐ ║  ║ \n",
       "q1_6: ┤ X ├───────╫─────────────┤M├─╫──╫─\n",
       "      └───┘   ┌─┐ ║             └╥┘ ║  ║ \n",
       "q1_5: ────────┤M├─╫──────────────╫──╫──╫─\n",
       "      ┌───┐   └╥┘ ║          ┌─┐ ║  ║  ║ \n",
       "q1_4: ┤ X ├────╫──╫──────────┤M├─╫──╫──╫─\n",
       "      ├───┤    ║  ║       ┌─┐└╥┘ ║  ║  ║ \n",
       "q1_3: ┤ X ├────╫──╫───────┤M├─╫──╫──╫──╫─\n",
       "      ├───┤    ║  ║    ┌─┐└╥┘ ║  ║  ║  ║ \n",
       "q1_2: ┤ X ├────╫──╫────┤M├─╫──╫──╫──╫──╫─\n",
       "      ├───┤    ║  ║ ┌─┐└╥┘ ║  ║  ║  ║  ║ \n",
       "q1_1: ┤ X ├────╫──╫─┤M├─╫──╫──╫──╫──╫──╫─\n",
       "      └───┘┌─┐ ║  ║ └╥┘ ║  ║  ║  ║  ║  ║ \n",
       "q1_0: ─────┤M├─╫──╫──╫──╫──╫──╫──╫──╫──╫─\n",
       "           └╥┘ ║  ║  ║  ║  ║  ║  ║  ║  ║ \n",
       "c1_9: ══════╬══╬══╬══╬══╬══╬══╬══╬══╬══╩═\n",
       "            ║  ║  ║  ║  ║  ║  ║  ║  ║    \n",
       "c1_8: ══════╬══╬══╬══╬══╬══╬══╬══╬══╩════\n",
       "            ║  ║  ║  ║  ║  ║  ║  ║       \n",
       "c1_7: ══════╬══╬══╩══╬══╬══╬══╬══╬═══════\n",
       "            ║  ║     ║  ║  ║  ║  ║       \n",
       "c1_6: ══════╬══╬═════╬══╬══╬══╬══╩═══════\n",
       "            ║  ║     ║  ║  ║  ║          \n",
       "c1_5: ══════╬══╩═════╬══╬══╬══╬══════════\n",
       "            ║        ║  ║  ║  ║          \n",
       "c1_4: ══════╬════════╬══╬══╬══╩══════════\n",
       "            ║        ║  ║  ║             \n",
       "c1_3: ══════╬════════╬══╬══╩═════════════\n",
       "            ║        ║  ║                \n",
       "c1_2: ══════╬════════╬══╩════════════════\n",
       "            ║        ║                   \n",
       "c1_1: ══════╬════════╩═══════════════════\n",
       "            ║                            \n",
       "c1_0: ══════╩════════════════════════════\n",
       "                                         "
      ]
     },
     "execution_count": 4,
     "metadata": {},
     "output_type": "execute_result"
    }
   ],
   "source": [
    "mycircuit.draw(reverse_bits=True)"
   ]
  },
  {
   "cell_type": "code",
   "execution_count": 6,
   "metadata": {},
   "outputs": [
    {
     "name": "stdout",
     "output_type": "stream",
     "text": [
      "{'1101011110': 128}\n"
     ]
    }
   ],
   "source": [
    "# execute the circuit and read the results\n",
    "job = execute(mycircuit,Aer.get_backend('qasm_simulator'),shots=128)\n",
    "\n",
    "counts = job.result().get_counts(mycircuit)\n",
    "        \n",
    "print(counts)"
   ]
  },
  {
   "cell_type": "code",
   "execution_count": null,
   "metadata": {},
   "outputs": [],
   "source": []
  }
 ],
 "metadata": {
  "kernelspec": {
   "display_name": "Python 3",
   "language": "python",
   "name": "python3"
  },
  "language_info": {
   "codemirror_mode": {
    "name": "ipython",
    "version": 3
   },
   "file_extension": ".py",
   "mimetype": "text/x-python",
   "name": "python",
   "nbconvert_exporter": "python",
   "pygments_lexer": "ipython3",
   "version": "3.7.6"
  }
 },
 "nbformat": 4,
 "nbformat_minor": 4
}
